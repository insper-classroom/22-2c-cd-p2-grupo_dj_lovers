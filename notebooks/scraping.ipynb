{
 "cells": [
  {
   "cell_type": "markdown",
   "metadata": {},
   "source": [
    "___\n",
    "# Insper - Ciência dos Dados - Projeto 2\n",
    "\n",
    "# Processando dados\n",
    "\n",
    "Esse notebook processa a base de dados principal baixada da internet e retorna duas bases de treinamento e teste com os dados inciais aleatorizados\n",
    "\n",
    "Os dados foram retirados da base [Brazilian houses to rent](https://www.kaggle.com/datasets/rubenssjr/brasilian-houses-to-rent).\n",
    "\n",
    "Será gerado um arquivo `dados.xlsx` contendo os dados separados que serão utilizados para o treinamento e teste do modelo.\n",
    "\n",
    "## Preparação do ambiente no jupyter\n",
    "\n",
    "Vamos importar algumas bibliotecas:"
   ]
  },
  {
   "cell_type": "code",
   "execution_count": 10,
   "metadata": {},
   "outputs": [],
   "source": [
    "import pandas as pd\n",
    "from math import floor"
   ]
  },
  {
   "cell_type": "code",
   "execution_count": 11,
   "metadata": {},
   "outputs": [],
   "source": [
    "def generate_random_train_test(data, percent_train=1):\n",
    "\n",
    "    data = data.sample(frac=1.0).reset_index(drop=True)\n",
    "\n",
    "    writer = pd.ExcelWriter('../data/dados.xlsx')\n",
    "\n",
    "    n_real = len(data)\n",
    "    n_treino = floor(n_real * percent_train)\n",
    "\n",
    "    data_train = data.iloc[:n_treino]\n",
    "    data_train.to_excel(excel_writer = writer, sheet_name = 'Treinamento', index = False)\n",
    "\n",
    "    data_test = data.iloc[n_treino:]\n",
    "    data_test.to_excel(excel_writer = writer, sheet_name = 'Teste', index = False)\n",
    "\n",
    "    writer.save()\n",
    "\n",
    "    print('Processo finalizado!')\n",
    "    print('\\nGeramos um arquivo chamado dados.xlsx na pasta data, confira!')\n"
   ]
  }
 ],
 "metadata": {
  "kernelspec": {
   "display_name": "Python 3.9.7 ('base')",
   "language": "python",
   "name": "python3"
  },
  "language_info": {
   "codemirror_mode": {
    "name": "ipython",
    "version": 3
   },
   "file_extension": ".py",
   "mimetype": "text/x-python",
   "name": "python",
   "nbconvert_exporter": "python",
   "pygments_lexer": "ipython3",
   "version": "3.9.7"
  },
  "orig_nbformat": 4,
  "vscode": {
   "interpreter": {
    "hash": "fcade83cbec70c4570249288f8f1595edd0333f0171fd8564bcd72f7e259e8a3"
   }
  }
 },
 "nbformat": 4,
 "nbformat_minor": 2
}
