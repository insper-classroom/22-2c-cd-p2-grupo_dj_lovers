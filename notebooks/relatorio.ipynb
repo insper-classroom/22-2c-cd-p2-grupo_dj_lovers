{
 "cells": [
  {
   "cell_type": "markdown",
   "metadata": {},
   "source": [
    "# Projeto 2 - Ciência dos Dados\n",
    "## Predição do preço de imóveis brasileiros"
   ]
  },
  {
   "cell_type": "markdown",
   "metadata": {},
   "source": [
    "Nome: Ananda Julia Galvão Campelo\n",
    "\n",
    "Nome: Carol Magario de Mattos Barretto\n",
    "\n",
    "Nome: Rafael Dourado Bastos de Oliveira"
   ]
  },
  {
   "cell_type": "markdown",
   "metadata": {},
   "source": [
    "___\n",
    "Carregando as bibliotecas necessárias:"
   ]
  },
  {
   "cell_type": "code",
   "execution_count": 710,
   "metadata": {},
   "outputs": [],
   "source": [
    "%matplotlib inline\n",
    "import pandas as pd\n",
    "import numpy as np\n",
    "import math\n",
    "import os\n",
    "\n",
    "# Bibliotecas de modelos estatísticos\n",
    "from scipy import stats\n",
    "\n",
    "import statsmodels.api as sm\n",
    "from sklearn.tree import DecisionTreeRegressor \n",
    "from sklearn.ensemble import RandomForestRegressor\n",
    "from sklearn.preprocessing import StandardScaler\n",
    "from sklearn.neighbors import KNeighborsRegressor\n",
    "\n",
    "from sklearn.metrics import mean_squared_error, r2_score, mean_absolute_error\n",
    "\n",
    "# Bibliotecas gráficas para facilitar a vizualização dos dados\n",
    "import matplotlib.pyplot as plt\n",
    "import seaborn as sn\n",
    "from IPython.display import display\n",
    "\n",
    "# Biblioteca que remove os warnings do Jupter Notbook para uma vizualização mais limpa do documento\n",
    "import warnings\n",
    "warnings.filterwarnings('ignore')"
   ]
  },
  {
   "cell_type": "code",
   "execution_count": 711,
   "metadata": {
    "scrolled": false
   },
   "outputs": [
    {
     "name": "stdout",
     "output_type": "stream",
     "text": [
      "Esperamos trabalhar no diretório\n",
      "c:\\Users\\Rafael Dourado\\Desktop\\Programação\\Insper\\cdados\\22-2c-cd-p2-grupo_dj_lovers\\notebooks\n"
     ]
    }
   ],
   "source": [
    "print('Esperamos trabalhar no diretório')\n",
    "print(os.getcwd())"
   ]
  },
  {
   "cell_type": "markdown",
   "metadata": {},
   "source": [
    "Carregando as funções necessárias:"
   ]
  },
  {
   "cell_type": "code",
   "execution_count": 712,
   "metadata": {},
   "outputs": [],
   "source": [
    "# Função que separa os base de dados em Treino e Teste\n",
    "def generate_random_train_test(data, percent_train=1, random_seed=1):\n",
    "\n",
    "    # randam_state = None : dados aleátorios\n",
    "    data = data.sample(frac=1.0, random_state=random_seed)\n",
    "\n",
    "    n_real = len(data)\n",
    "    n_treino = math.floor(n_real * percent_train)\n",
    "\n",
    "    train = data.iloc[:n_treino].reset_index(drop=True)\n",
    "    test = data.iloc[n_treino:].reset_index(drop=True)\n",
    "\n",
    "    print('Bases de Treino e Teste geradas com sucesso!')\n",
    "    print(f'A base de Treino possui {train.shape[0]} conjuntos de dados\\nA base de Teste possui {test.shape[0]} conjuntos de dados')\n",
    "    return train, test\n"
   ]
  },
  {
   "cell_type": "markdown",
   "metadata": {},
   "source": [
    "Carregando a base com todos dados:"
   ]
  },
  {
   "cell_type": "code",
   "execution_count": 713,
   "metadata": {},
   "outputs": [],
   "source": [
    "path = '../data/'\n",
    "filename = 'houses_to_rent.csv'\n",
    "\n",
    "data = pd.read_csv(path+filename, sep=\",\")"
   ]
  },
  {
   "cell_type": "markdown",
   "metadata": {},
   "source": [
    "* *city*: Cidade onde o imóvel está localizada\n",
    "* *area*: Area do imovel [m²]\n",
    "* *rooms*: Número de quartos \n",
    "* *bathroom*: Número de banheiros\n",
    "* *parking spaces*: Número de vagas no estacionamento\n",
    "* *floor*: Andar em que está localizado\n",
    "* *animal*: Aceita animais? [acept/not acept]\n",
    "* *furniture*: Está Mobilhada? [furnished/not furnished]\n",
    "* *hoa*: Valor do Condominio [R$]\n",
    "* *rent amount*: Valor do Aluguel [R$]\n",
    "* *property tax*: IPTU [R$]\n",
    "* *fire insurance*: Seguro Incendio [R$]\n",
    "* *total*: Valor Total do Imóvel [R$]\n"
   ]
  },
  {
   "cell_type": "code",
   "execution_count": 714,
   "metadata": {},
   "outputs": [
    {
     "data": {
      "text/html": [
       "<div>\n",
       "<style scoped>\n",
       "    .dataframe tbody tr th:only-of-type {\n",
       "        vertical-align: middle;\n",
       "    }\n",
       "\n",
       "    .dataframe tbody tr th {\n",
       "        vertical-align: top;\n",
       "    }\n",
       "\n",
       "    .dataframe thead th {\n",
       "        text-align: right;\n",
       "    }\n",
       "</style>\n",
       "<table border=\"1\" class=\"dataframe\">\n",
       "  <thead>\n",
       "    <tr style=\"text-align: right;\">\n",
       "      <th></th>\n",
       "      <th>city</th>\n",
       "      <th>area</th>\n",
       "      <th>rooms</th>\n",
       "      <th>bathroom</th>\n",
       "      <th>parking_spaces</th>\n",
       "      <th>floor</th>\n",
       "      <th>animal</th>\n",
       "      <th>furniture</th>\n",
       "      <th>hoa</th>\n",
       "      <th>rent_amount</th>\n",
       "      <th>property_tax</th>\n",
       "      <th>fire_insurance</th>\n",
       "      <th>total</th>\n",
       "    </tr>\n",
       "  </thead>\n",
       "  <tbody>\n",
       "    <tr>\n",
       "      <th>0</th>\n",
       "      <td>São Paulo</td>\n",
       "      <td>70</td>\n",
       "      <td>2</td>\n",
       "      <td>1</td>\n",
       "      <td>1</td>\n",
       "      <td>7</td>\n",
       "      <td>acept</td>\n",
       "      <td>furnished</td>\n",
       "      <td>2065</td>\n",
       "      <td>3300</td>\n",
       "      <td>211</td>\n",
       "      <td>42</td>\n",
       "      <td>5618</td>\n",
       "    </tr>\n",
       "    <tr>\n",
       "      <th>1</th>\n",
       "      <td>São Paulo</td>\n",
       "      <td>320</td>\n",
       "      <td>4</td>\n",
       "      <td>4</td>\n",
       "      <td>0</td>\n",
       "      <td>20</td>\n",
       "      <td>acept</td>\n",
       "      <td>not furnished</td>\n",
       "      <td>1200</td>\n",
       "      <td>4960</td>\n",
       "      <td>1750</td>\n",
       "      <td>63</td>\n",
       "      <td>7973</td>\n",
       "    </tr>\n",
       "    <tr>\n",
       "      <th>2</th>\n",
       "      <td>Porto Alegre</td>\n",
       "      <td>80</td>\n",
       "      <td>1</td>\n",
       "      <td>1</td>\n",
       "      <td>1</td>\n",
       "      <td>6</td>\n",
       "      <td>acept</td>\n",
       "      <td>not furnished</td>\n",
       "      <td>1000</td>\n",
       "      <td>2800</td>\n",
       "      <td>0</td>\n",
       "      <td>41</td>\n",
       "      <td>3841</td>\n",
       "    </tr>\n",
       "    <tr>\n",
       "      <th>3</th>\n",
       "      <td>Porto Alegre</td>\n",
       "      <td>51</td>\n",
       "      <td>2</td>\n",
       "      <td>1</td>\n",
       "      <td>0</td>\n",
       "      <td>2</td>\n",
       "      <td>acept</td>\n",
       "      <td>not furnished</td>\n",
       "      <td>270</td>\n",
       "      <td>1112</td>\n",
       "      <td>22</td>\n",
       "      <td>17</td>\n",
       "      <td>1421</td>\n",
       "    </tr>\n",
       "    <tr>\n",
       "      <th>4</th>\n",
       "      <td>São Paulo</td>\n",
       "      <td>25</td>\n",
       "      <td>1</td>\n",
       "      <td>1</td>\n",
       "      <td>0</td>\n",
       "      <td>1</td>\n",
       "      <td>not acept</td>\n",
       "      <td>not furnished</td>\n",
       "      <td>0</td>\n",
       "      <td>800</td>\n",
       "      <td>25</td>\n",
       "      <td>11</td>\n",
       "      <td>836</td>\n",
       "    </tr>\n",
       "  </tbody>\n",
       "</table>\n",
       "</div>"
      ],
      "text/plain": [
       "           city  area  rooms  bathroom  parking_spaces floor     animal  \\\n",
       "0     São Paulo    70      2         1               1     7      acept   \n",
       "1     São Paulo   320      4         4               0    20      acept   \n",
       "2  Porto Alegre    80      1         1               1     6      acept   \n",
       "3  Porto Alegre    51      2         1               0     2      acept   \n",
       "4     São Paulo    25      1         1               0     1  not acept   \n",
       "\n",
       "       furniture   hoa  rent_amount  property_tax  fire_insurance  total  \n",
       "0      furnished  2065         3300           211              42   5618  \n",
       "1  not furnished  1200         4960          1750              63   7973  \n",
       "2  not furnished  1000         2800             0              41   3841  \n",
       "3  not furnished   270         1112            22              17   1421  \n",
       "4  not furnished     0          800            25              11    836  "
      ]
     },
     "execution_count": 714,
     "metadata": {},
     "output_type": "execute_result"
    }
   ],
   "source": [
    "data.head()"
   ]
  },
  {
   "cell_type": "markdown",
   "metadata": {},
   "source": [
    "____\n",
    "### Primeiras Simplificações\n",
    "\n",
    "Um estudo rápido dos dados revelou a variavel  `total` é composta da soma das variáveis `hoa`, `rent_amount`, `property_tax` e `fire_insurance`. Por isso, uma simplificação inicial do modelo que tentará descobrir o valor de uma apartamento será utilizar como **variavel Target** o `rent_amount` (valor do aluguel) e descartar as demais variaveis supracitadas durante a analise."
   ]
  },
  {
   "cell_type": "code",
   "execution_count": 715,
   "metadata": {},
   "outputs": [
    {
     "data": {
      "text/html": [
       "<div>\n",
       "<style scoped>\n",
       "    .dataframe tbody tr th:only-of-type {\n",
       "        vertical-align: middle;\n",
       "    }\n",
       "\n",
       "    .dataframe tbody tr th {\n",
       "        vertical-align: top;\n",
       "    }\n",
       "\n",
       "    .dataframe thead th {\n",
       "        text-align: right;\n",
       "    }\n",
       "</style>\n",
       "<table border=\"1\" class=\"dataframe\">\n",
       "  <thead>\n",
       "    <tr style=\"text-align: right;\">\n",
       "      <th></th>\n",
       "      <th>city</th>\n",
       "      <th>area</th>\n",
       "      <th>rooms</th>\n",
       "      <th>bathroom</th>\n",
       "      <th>parking_spaces</th>\n",
       "      <th>floor</th>\n",
       "      <th>animal</th>\n",
       "      <th>furniture</th>\n",
       "      <th>rent_amount</th>\n",
       "    </tr>\n",
       "  </thead>\n",
       "  <tbody>\n",
       "    <tr>\n",
       "      <th>0</th>\n",
       "      <td>São Paulo</td>\n",
       "      <td>70</td>\n",
       "      <td>2</td>\n",
       "      <td>1</td>\n",
       "      <td>1</td>\n",
       "      <td>7</td>\n",
       "      <td>acept</td>\n",
       "      <td>furnished</td>\n",
       "      <td>3300</td>\n",
       "    </tr>\n",
       "    <tr>\n",
       "      <th>1</th>\n",
       "      <td>São Paulo</td>\n",
       "      <td>320</td>\n",
       "      <td>4</td>\n",
       "      <td>4</td>\n",
       "      <td>0</td>\n",
       "      <td>20</td>\n",
       "      <td>acept</td>\n",
       "      <td>not furnished</td>\n",
       "      <td>4960</td>\n",
       "    </tr>\n",
       "    <tr>\n",
       "      <th>2</th>\n",
       "      <td>Porto Alegre</td>\n",
       "      <td>80</td>\n",
       "      <td>1</td>\n",
       "      <td>1</td>\n",
       "      <td>1</td>\n",
       "      <td>6</td>\n",
       "      <td>acept</td>\n",
       "      <td>not furnished</td>\n",
       "      <td>2800</td>\n",
       "    </tr>\n",
       "    <tr>\n",
       "      <th>3</th>\n",
       "      <td>Porto Alegre</td>\n",
       "      <td>51</td>\n",
       "      <td>2</td>\n",
       "      <td>1</td>\n",
       "      <td>0</td>\n",
       "      <td>2</td>\n",
       "      <td>acept</td>\n",
       "      <td>not furnished</td>\n",
       "      <td>1112</td>\n",
       "    </tr>\n",
       "    <tr>\n",
       "      <th>4</th>\n",
       "      <td>São Paulo</td>\n",
       "      <td>25</td>\n",
       "      <td>1</td>\n",
       "      <td>1</td>\n",
       "      <td>0</td>\n",
       "      <td>1</td>\n",
       "      <td>not acept</td>\n",
       "      <td>not furnished</td>\n",
       "      <td>800</td>\n",
       "    </tr>\n",
       "  </tbody>\n",
       "</table>\n",
       "</div>"
      ],
      "text/plain": [
       "           city  area  rooms  bathroom  parking_spaces floor     animal  \\\n",
       "0     São Paulo    70      2         1               1     7      acept   \n",
       "1     São Paulo   320      4         4               0    20      acept   \n",
       "2  Porto Alegre    80      1         1               1     6      acept   \n",
       "3  Porto Alegre    51      2         1               0     2      acept   \n",
       "4     São Paulo    25      1         1               0     1  not acept   \n",
       "\n",
       "       furniture  rent_amount  \n",
       "0      furnished         3300  \n",
       "1  not furnished         4960  \n",
       "2  not furnished         2800  \n",
       "3  not furnished         1112  \n",
       "4  not furnished          800  "
      ]
     },
     "execution_count": 715,
     "metadata": {},
     "output_type": "execute_result"
    }
   ],
   "source": [
    "data = data.drop(['hoa', 'property_tax', 'fire_insurance', 'total'], axis=1)\n",
    "data.head()"
   ]
  },
  {
   "cell_type": "markdown",
   "metadata": {},
   "source": [
    "_____\n",
    "### Análise Exploratória"
   ]
  },
  {
   "cell_type": "code",
   "execution_count": 716,
   "metadata": {},
   "outputs": [
    {
     "data": {
      "text/html": [
       "<div>\n",
       "<style scoped>\n",
       "    .dataframe tbody tr th:only-of-type {\n",
       "        vertical-align: middle;\n",
       "    }\n",
       "\n",
       "    .dataframe tbody tr th {\n",
       "        vertical-align: top;\n",
       "    }\n",
       "\n",
       "    .dataframe thead th {\n",
       "        text-align: right;\n",
       "    }\n",
       "</style>\n",
       "<table border=\"1\" class=\"dataframe\">\n",
       "  <thead>\n",
       "    <tr style=\"text-align: right;\">\n",
       "      <th></th>\n",
       "      <th>area</th>\n",
       "      <th>rooms</th>\n",
       "      <th>bathroom</th>\n",
       "      <th>parking_spaces</th>\n",
       "      <th>rent_amount</th>\n",
       "    </tr>\n",
       "  </thead>\n",
       "  <tbody>\n",
       "    <tr>\n",
       "      <th>count</th>\n",
       "      <td>10692.00</td>\n",
       "      <td>10692.00</td>\n",
       "      <td>10692.00</td>\n",
       "      <td>10692.00</td>\n",
       "      <td>10692.00</td>\n",
       "    </tr>\n",
       "    <tr>\n",
       "      <th>mean</th>\n",
       "      <td>149.22</td>\n",
       "      <td>2.51</td>\n",
       "      <td>2.24</td>\n",
       "      <td>1.61</td>\n",
       "      <td>3896.25</td>\n",
       "    </tr>\n",
       "    <tr>\n",
       "      <th>std</th>\n",
       "      <td>537.02</td>\n",
       "      <td>1.17</td>\n",
       "      <td>1.41</td>\n",
       "      <td>1.59</td>\n",
       "      <td>3408.55</td>\n",
       "    </tr>\n",
       "    <tr>\n",
       "      <th>min</th>\n",
       "      <td>11.00</td>\n",
       "      <td>1.00</td>\n",
       "      <td>1.00</td>\n",
       "      <td>0.00</td>\n",
       "      <td>450.00</td>\n",
       "    </tr>\n",
       "    <tr>\n",
       "      <th>25%</th>\n",
       "      <td>56.00</td>\n",
       "      <td>2.00</td>\n",
       "      <td>1.00</td>\n",
       "      <td>0.00</td>\n",
       "      <td>1530.00</td>\n",
       "    </tr>\n",
       "    <tr>\n",
       "      <th>50%</th>\n",
       "      <td>90.00</td>\n",
       "      <td>2.00</td>\n",
       "      <td>2.00</td>\n",
       "      <td>1.00</td>\n",
       "      <td>2661.00</td>\n",
       "    </tr>\n",
       "    <tr>\n",
       "      <th>75%</th>\n",
       "      <td>182.00</td>\n",
       "      <td>3.00</td>\n",
       "      <td>3.00</td>\n",
       "      <td>2.00</td>\n",
       "      <td>5000.00</td>\n",
       "    </tr>\n",
       "    <tr>\n",
       "      <th>max</th>\n",
       "      <td>46335.00</td>\n",
       "      <td>13.00</td>\n",
       "      <td>10.00</td>\n",
       "      <td>12.00</td>\n",
       "      <td>45000.00</td>\n",
       "    </tr>\n",
       "  </tbody>\n",
       "</table>\n",
       "</div>"
      ],
      "text/plain": [
       "           area     rooms  bathroom  parking_spaces  rent_amount\n",
       "count  10692.00  10692.00  10692.00        10692.00     10692.00\n",
       "mean     149.22      2.51      2.24            1.61      3896.25\n",
       "std      537.02      1.17      1.41            1.59      3408.55\n",
       "min       11.00      1.00      1.00            0.00       450.00\n",
       "25%       56.00      2.00      1.00            0.00      1530.00\n",
       "50%       90.00      2.00      2.00            1.00      2661.00\n",
       "75%      182.00      3.00      3.00            2.00      5000.00\n",
       "max    46335.00     13.00     10.00           12.00     45000.00"
      ]
     },
     "execution_count": 716,
     "metadata": {},
     "output_type": "execute_result"
    }
   ],
   "source": [
    "data.describe().round(2)"
   ]
  },
  {
   "cell_type": "code",
   "execution_count": 717,
   "metadata": {},
   "outputs": [
    {
     "data": {
      "text/plain": [
       "<seaborn.axisgrid.PairGrid at 0x2071e4eb940>"
      ]
     },
     "metadata": {},
     "output_type": "display_data"
    },
    {
     "data": {
      "image/png": "[encoded data removed]",
      "text/plain": [
       "<Figure size 540x540 with 30 Axes>"
      ]
     },
     "metadata": {
      "needs_background": "light"
     },
     "output_type": "display_data"
    }
   ],
   "source": [
    "display(sn.pairplot(data, height=1.5))"
   ]
  },
  {
   "cell_type": "markdown",
   "metadata": {},
   "source": [
    "_____\n",
    "## Modelos de Predição \n",
    "\n",
    "Para realizar a predição do valor de apartamentos brasileiros iremos testar 4 tipos de modelos, são eles: `Regrssão linear Multipla`, `Árvore de Decisão`, `Floresta Aleatória` e `K-vizinhos mais próximos`. Nessa sessão iremos explicar brevimente o funcionamento de cada modelo e declarar as funções necessárias para utiliza-los.\n",
    "\n",
    "### Regressão Linear Multipla \n",
    "\n",
    "Breve explicação de regressão linear multipla"
   ]
  },
  {
   "cell_type": "code",
   "execution_count": 718,
   "metadata": {},
   "outputs": [],
   "source": [
    "# Função de regressão linear com uso da StatsModels\n",
    "def linear_regress(Y,X):\n",
    "    \n",
    "    X_cp = sm.add_constant(X)\n",
    "    model = sm.OLS(Y,X_cp)\n",
    "    results = model.fit()\n",
    "    \n",
    "    return results"
   ]
  },
  {
   "cell_type": "markdown",
   "metadata": {},
   "source": [
    "### Árvore de Decisão\n",
    "\n",
    "Breve explicação de regressão por arvore de decisão"
   ]
  },
  {
   "cell_type": "code",
   "execution_count": 719,
   "metadata": {},
   "outputs": [],
   "source": [
    "# Função de regressão por arvore de decisão com uso do SKlearn\n",
    "def decision_tree_regress(X, y):\n",
    "\n",
    "    result = DecisionTreeRegressor(random_state = 0) # Constroi a árvore\n",
    "    result.fit(X, y) # Treina a árvore\n",
    "\n",
    "    return result"
   ]
  },
  {
   "cell_type": "markdown",
   "metadata": {},
   "source": [
    "### Floresta Aleatória\n",
    "\n",
    "Breve explicação de regressão por floresta aleatória"
   ]
  },
  {
   "cell_type": "code",
   "execution_count": 720,
   "metadata": {},
   "outputs": [],
   "source": [
    "# Função de regressão por floresta aleatória com uso do SKlearn\n",
    "def random_forest_regress(X, y):\n",
    "\n",
    "    result = RandomForestRegressor(random_state = 0) # Constroi a floresta\n",
    "    result.fit(X, y) # Treina a floresta\n",
    "\n",
    "    return result"
   ]
  },
  {
   "cell_type": "markdown",
   "metadata": {},
   "source": [
    "### K-Vizinhos Mais Próximos\n",
    "\n",
    "Breve explicação de regressão pelos k-vizinhos mais próximos"
   ]
  },
  {
   "cell_type": "code",
   "execution_count": 721,
   "metadata": {},
   "outputs": [],
   "source": [
    "# Função de regressão por k-vizinhos mais próximos com uso do SKlearn\n",
    "def K_neighbors_regress(X, y, k):\n",
    "\n",
    "    scaler = StandardScaler().fit(X)\n",
    "    X = scaler.transform(X)\n",
    "\n",
    "    result = KNeighborsRegressor(n_neighbors=k, metric='euclidean')\n",
    "    result.fit(X, y)\n",
    "\n",
    "    return result"
   ]
  },
  {
   "cell_type": "markdown",
   "metadata": {},
   "source": [
    "## Técnicas de Análise de desempenho\n",
    "\n",
    "Para entender a eficácia dos modelos testados serão usadas 3 técnicas de análise de desempenho, são elas: `Raiz do Erro Quadrático Médio (RMSE)`, `Coeficiente de Determinação (R2)` e `Erro Médio Absoluto (MAE)`. Para facilitar a aplicação dessas técnicas será usada a biblioteca `sklearn.metrics` que já possui funções prontas para calcula-las. A cada iteração serão calculados os erros de cada modelo e armazenados em  um DataFrame de erros para comparações e conclusões finais.\n",
    "\n",
    "### Raiz do Erro Quadrático Médio (RMSE)\n",
    "\n",
    "Breve explicação de Raiz do Erro Quadrático Médio (RMSE)\n",
    "\n",
    "### Coeficiente de Determinação (R2)\n",
    "\n",
    "Breve eplicação de Coeficiente de Determinação (R2)\n",
    "\n",
    "### Erro Médio Absoluto (MAE)\n",
    "\n",
    "Breve explicação de Erro Médio Absoluto (MAE)"
   ]
  },
  {
   "cell_type": "code",
   "execution_count": 722,
   "metadata": {},
   "outputs": [],
   "source": [
    "errors = pd.DataFrame()\n",
    "errors['type'] = ['rmse', 'mae', 'r2']"
   ]
  },
  {
   "cell_type": "markdown",
   "metadata": {},
   "source": [
    "____\n",
    "## Modelagem do Problema\n",
    "\n",
    "### Primeira Iteração\n",
    " Inicialmente iremos trabalhar apenas com variaveis qualitativas para fins de simplificação inicial do Modelo. Para isso, as váriaveis  `city`, `animal` e `furniture` serão desconsideradas nessa primeira iteração. Além disso, a variavel `floor` possui  alguns valores \"**-**\" que representa os apartamentos localizados no térreo, como queremos trabalhar apenas com variaveis quantitativas iremos substituir esses valores por \"**0**\"."
   ]
  },
  {
   "cell_type": "code",
   "execution_count": 723,
   "metadata": {},
   "outputs": [
    {
     "data": {
      "text/html": [
       "<div>\n",
       "<style scoped>\n",
       "    .dataframe tbody tr th:only-of-type {\n",
       "        vertical-align: middle;\n",
       "    }\n",
       "\n",
       "    .dataframe tbody tr th {\n",
       "        vertical-align: top;\n",
       "    }\n",
       "\n",
       "    .dataframe thead th {\n",
       "        text-align: right;\n",
       "    }\n",
       "</style>\n",
       "<table border=\"1\" class=\"dataframe\">\n",
       "  <thead>\n",
       "    <tr style=\"text-align: right;\">\n",
       "      <th></th>\n",
       "      <th>area</th>\n",
       "      <th>rooms</th>\n",
       "      <th>bathroom</th>\n",
       "      <th>parking_spaces</th>\n",
       "      <th>floor</th>\n",
       "      <th>rent_amount</th>\n",
       "    </tr>\n",
       "  </thead>\n",
       "  <tbody>\n",
       "    <tr>\n",
       "      <th>0</th>\n",
       "      <td>70</td>\n",
       "      <td>2</td>\n",
       "      <td>1</td>\n",
       "      <td>1</td>\n",
       "      <td>7</td>\n",
       "      <td>3300</td>\n",
       "    </tr>\n",
       "    <tr>\n",
       "      <th>1</th>\n",
       "      <td>320</td>\n",
       "      <td>4</td>\n",
       "      <td>4</td>\n",
       "      <td>0</td>\n",
       "      <td>20</td>\n",
       "      <td>4960</td>\n",
       "    </tr>\n",
       "    <tr>\n",
       "      <th>2</th>\n",
       "      <td>80</td>\n",
       "      <td>1</td>\n",
       "      <td>1</td>\n",
       "      <td>1</td>\n",
       "      <td>6</td>\n",
       "      <td>2800</td>\n",
       "    </tr>\n",
       "    <tr>\n",
       "      <th>3</th>\n",
       "      <td>51</td>\n",
       "      <td>2</td>\n",
       "      <td>1</td>\n",
       "      <td>0</td>\n",
       "      <td>2</td>\n",
       "      <td>1112</td>\n",
       "    </tr>\n",
       "    <tr>\n",
       "      <th>4</th>\n",
       "      <td>25</td>\n",
       "      <td>1</td>\n",
       "      <td>1</td>\n",
       "      <td>0</td>\n",
       "      <td>1</td>\n",
       "      <td>800</td>\n",
       "    </tr>\n",
       "  </tbody>\n",
       "</table>\n",
       "</div>"
      ],
      "text/plain": [
       "   area  rooms  bathroom  parking_spaces  floor  rent_amount\n",
       "0    70      2         1               1      7         3300\n",
       "1   320      4         4               0     20         4960\n",
       "2    80      1         1               1      6         2800\n",
       "3    51      2         1               0      2         1112\n",
       "4    25      1         1               0      1          800"
      ]
     },
     "execution_count": 723,
     "metadata": {},
     "output_type": "execute_result"
    }
   ],
   "source": [
    "data.loc[(data['floor'] == '-'), 'floor'] = 0\n",
    "data['floor'] = data['floor'].astype('int64')\n",
    "\n",
    "quantitative_data = data[['area', 'rooms', 'bathroom', 'parking_spaces', 'floor', 'rent_amount']]\n",
    "\n",
    "quantitative_data.head()"
   ]
  },
  {
   "cell_type": "markdown",
   "metadata": {},
   "source": [
    " Sendo assim, na primeira iteração feita para prever o **valor do aluguel de um apartamento (rent_amount)**, nossa `Variável Target` serão usadas como `Variáveis Features` apenas variaveis quantitativas, são elas:\n",
    "\n",
    " * *area*;\n",
    " * *rooms*;\n",
    " * *bathroom*;\n",
    " * *parking spaces*;\n",
    " * *floor*;"
   ]
  },
  {
   "cell_type": "code",
   "execution_count": 724,
   "metadata": {},
   "outputs": [
    {
     "name": "stdout",
     "output_type": "stream",
     "text": [
      "Bases de Treino e Teste geradas com sucesso!\n",
      "A base de Treino possui 7484 conjuntos de dados\n",
      "A base de Teste possui 3208 conjuntos de dados\n"
     ]
    }
   ],
   "source": [
    "# Separando o Base de dados em bases de treino e teste\n",
    "train, test = generate_random_train_test(quantitative_data, percent_train=0.7)\n",
    "\n",
    "X_train = train[['area', 'rooms', 'bathroom', 'parking_spaces', 'floor']]\n",
    "y_train = train['rent_amount']\n",
    "\n",
    "X_test = test[['area', 'rooms', 'bathroom', 'parking_spaces', 'floor']]\n",
    "y_test = test['rent_amount']"
   ]
  },
  {
   "cell_type": "code",
   "execution_count": 725,
   "metadata": {},
   "outputs": [
    {
     "data": {
      "text/html": [
       "<table class=\"simpletable\">\n",
       "<caption>OLS Regression Results</caption>\n",
       "<tr>\n",
       "  <th>Dep. Variable:</th>       <td>rent_amount</td>   <th>  R-squared:         </th> <td>   0.482</td> \n",
       "</tr>\n",
       "<tr>\n",
       "  <th>Model:</th>                   <td>OLS</td>       <th>  Adj. R-squared:    </th> <td>   0.482</td> \n",
       "</tr>\n",
       "<tr>\n",
       "  <th>Method:</th>             <td>Least Squares</td>  <th>  F-statistic:       </th> <td>   1392.</td> \n",
       "</tr>\n",
       "<tr>\n",
       "  <th>Date:</th>             <td>Thu, 01 Dec 2022</td> <th>  Prob (F-statistic):</th>  <td>  0.00</td>  \n",
       "</tr>\n",
       "<tr>\n",
       "  <th>Time:</th>                 <td>20:39:17</td>     <th>  Log-Likelihood:    </th> <td> -68981.</td> \n",
       "</tr>\n",
       "<tr>\n",
       "  <th>No. Observations:</th>      <td>  7484</td>      <th>  AIC:               </th> <td>1.380e+05</td>\n",
       "</tr>\n",
       "<tr>\n",
       "  <th>Df Residuals:</th>          <td>  7478</td>      <th>  BIC:               </th> <td>1.380e+05</td>\n",
       "</tr>\n",
       "<tr>\n",
       "  <th>Df Model:</th>              <td>     5</td>      <th>                     </th>     <td> </td>    \n",
       "</tr>\n",
       "<tr>\n",
       "  <th>Covariance Type:</th>      <td>nonrobust</td>    <th>                     </th>     <td> </td>    \n",
       "</tr>\n",
       "</table>\n",
       "<table class=\"simpletable\">\n",
       "<tr>\n",
       "         <td></td>           <th>coef</th>     <th>std err</th>      <th>t</th>      <th>P>|t|</th>  <th>[0.025</th>    <th>0.975]</th>  \n",
       "</tr>\n",
       "<tr>\n",
       "  <th>const</th>          <td> -296.8664</td> <td>   75.092</td> <td>   -3.953</td> <td> 0.000</td> <td> -444.068</td> <td> -149.665</td>\n",
       "</tr>\n",
       "<tr>\n",
       "  <th>area</th>           <td>    0.1064</td> <td>    0.053</td> <td>    2.022</td> <td> 0.043</td> <td>    0.003</td> <td>    0.210</td>\n",
       "</tr>\n",
       "<tr>\n",
       "  <th>rooms</th>          <td>  281.7601</td> <td>   36.667</td> <td>    7.684</td> <td> 0.000</td> <td>  209.882</td> <td>  353.638</td>\n",
       "</tr>\n",
       "<tr>\n",
       "  <th>bathroom</th>       <td> 1111.8071</td> <td>   33.432</td> <td>   33.256</td> <td> 0.000</td> <td> 1046.271</td> <td> 1177.343</td>\n",
       "</tr>\n",
       "<tr>\n",
       "  <th>parking_spaces</th> <td>  418.9443</td> <td>   25.574</td> <td>   16.382</td> <td> 0.000</td> <td>  368.812</td> <td>  469.077</td>\n",
       "</tr>\n",
       "<tr>\n",
       "  <th>floor</th>          <td>   61.6730</td> <td>    5.321</td> <td>   11.591</td> <td> 0.000</td> <td>   51.242</td> <td>   72.104</td>\n",
       "</tr>\n",
       "</table>\n",
       "<table class=\"simpletable\">\n",
       "<tr>\n",
       "  <th>Omnibus:</th>       <td>2985.277</td> <th>  Durbin-Watson:     </th> <td>   1.994</td> \n",
       "</tr>\n",
       "<tr>\n",
       "  <th>Prob(Omnibus):</th>  <td> 0.000</td>  <th>  Jarque-Bera (JB):  </th> <td>26424.665</td>\n",
       "</tr>\n",
       "<tr>\n",
       "  <th>Skew:</th>           <td> 1.670</td>  <th>  Prob(JB):          </th> <td>    0.00</td> \n",
       "</tr>\n",
       "<tr>\n",
       "  <th>Kurtosis:</th>       <td>11.578</td>  <th>  Cond. No.          </th> <td>1.60e+03</td> \n",
       "</tr>\n",
       "</table><br/><br/>Notes:<br/>[1] Standard Errors assume that the covariance matrix of the errors is correctly specified.<br/>[2] The condition number is large, 1.6e+03. This might indicate that there are<br/>strong multicollinearity or other numerical problems."
      ],
      "text/plain": [
       "<class 'statsmodels.iolib.summary.Summary'>\n",
       "\"\"\"\n",
       "                            OLS Regression Results                            \n",
       "==============================================================================\n",
       "Dep. Variable:            rent_amount   R-squared:                       0.482\n",
       "Model:                            OLS   Adj. R-squared:                  0.482\n",
       "Method:                 Least Squares   F-statistic:                     1392.\n",
       "Date:                Thu, 01 Dec 2022   Prob (F-statistic):               0.00\n",
       "Time:                        20:39:17   Log-Likelihood:                -68981.\n",
       "No. Observations:                7484   AIC:                         1.380e+05\n",
       "Df Residuals:                    7478   BIC:                         1.380e+05\n",
       "Df Model:                           5                                         \n",
       "Covariance Type:            nonrobust                                         \n",
       "==================================================================================\n",
       "                     coef    std err          t      P>|t|      [0.025      0.975]\n",
       "----------------------------------------------------------------------------------\n",
       "const           -296.8664     75.092     -3.953      0.000    -444.068    -149.665\n",
       "area               0.1064      0.053      2.022      0.043       0.003       0.210\n",
       "rooms            281.7601     36.667      7.684      0.000     209.882     353.638\n",
       "bathroom        1111.8071     33.432     33.256      0.000    1046.271    1177.343\n",
       "parking_spaces   418.9443     25.574     16.382      0.000     368.812     469.077\n",
       "floor             61.6730      5.321     11.591      0.000      51.242      72.104\n",
       "==============================================================================\n",
       "Omnibus:                     2985.277   Durbin-Watson:                   1.994\n",
       "Prob(Omnibus):                  0.000   Jarque-Bera (JB):            26424.665\n",
       "Skew:                           1.670   Prob(JB):                         0.00\n",
       "Kurtosis:                      11.578   Cond. No.                     1.60e+03\n",
       "==============================================================================\n",
       "\n",
       "Notes:\n",
       "[1] Standard Errors assume that the covariance matrix of the errors is correctly specified.\n",
       "[2] The condition number is large, 1.6e+03. This might indicate that there are\n",
       "strong multicollinearity or other numerical problems.\n",
       "\"\"\""
      ]
     },
     "execution_count": 725,
     "metadata": {},
     "output_type": "execute_result"
    }
   ],
   "source": [
    "# Utilizando o modelo de regressão linear multipla\n",
    "linear = linear_regress(y_train, X_train)\n",
    "y_pred = linear.predict(sm.add_constant(X_test))\n",
    "linear.summary()"
   ]
  },
  {
   "cell_type": "markdown",
   "metadata": {},
   "source": [
    "A área foi retirada por conta de seu valor-p que tá acima do desejado que seria de 0,1%.\n"
   ]
  },
  {
   "cell_type": "code",
   "execution_count": 726,
   "metadata": {},
   "outputs": [
    {
     "data": {
      "text/html": [
       "<table class=\"simpletable\">\n",
       "<caption>OLS Regression Results</caption>\n",
       "<tr>\n",
       "  <th>Dep. Variable:</th>       <td>rent_amount</td>   <th>  R-squared:         </th> <td>   0.482</td> \n",
       "</tr>\n",
       "<tr>\n",
       "  <th>Model:</th>                   <td>OLS</td>       <th>  Adj. R-squared:    </th> <td>   0.481</td> \n",
       "</tr>\n",
       "<tr>\n",
       "  <th>Method:</th>             <td>Least Squares</td>  <th>  F-statistic:       </th> <td>   1738.</td> \n",
       "</tr>\n",
       "<tr>\n",
       "  <th>Date:</th>             <td>Thu, 01 Dec 2022</td> <th>  Prob (F-statistic):</th>  <td>  0.00</td>  \n",
       "</tr>\n",
       "<tr>\n",
       "  <th>Time:</th>                 <td>20:39:17</td>     <th>  Log-Likelihood:    </th> <td> -68983.</td> \n",
       "</tr>\n",
       "<tr>\n",
       "  <th>No. Observations:</th>      <td>  7484</td>      <th>  AIC:               </th> <td>1.380e+05</td>\n",
       "</tr>\n",
       "<tr>\n",
       "  <th>Df Residuals:</th>          <td>  7479</td>      <th>  BIC:               </th> <td>1.380e+05</td>\n",
       "</tr>\n",
       "<tr>\n",
       "  <th>Df Model:</th>              <td>     4</td>      <th>                     </th>     <td> </td>    \n",
       "</tr>\n",
       "<tr>\n",
       "  <th>Covariance Type:</th>      <td>nonrobust</td>    <th>                     </th>     <td> </td>    \n",
       "</tr>\n",
       "</table>\n",
       "<table class=\"simpletable\">\n",
       "<tr>\n",
       "         <td></td>           <th>coef</th>     <th>std err</th>      <th>t</th>      <th>P>|t|</th>  <th>[0.025</th>    <th>0.975]</th>  \n",
       "</tr>\n",
       "<tr>\n",
       "  <th>const</th>          <td> -302.7787</td> <td>   75.050</td> <td>   -4.034</td> <td> 0.000</td> <td> -449.899</td> <td> -155.659</td>\n",
       "</tr>\n",
       "<tr>\n",
       "  <th>rooms</th>          <td>  282.7487</td> <td>   36.671</td> <td>    7.710</td> <td> 0.000</td> <td>  210.862</td> <td>  354.635</td>\n",
       "</tr>\n",
       "<tr>\n",
       "  <th>bathroom</th>       <td> 1119.2828</td> <td>   33.234</td> <td>   33.679</td> <td> 0.000</td> <td> 1054.136</td> <td> 1184.430</td>\n",
       "</tr>\n",
       "<tr>\n",
       "  <th>parking_spaces</th> <td>  420.9105</td> <td>   25.561</td> <td>   16.467</td> <td> 0.000</td> <td>  370.804</td> <td>  471.017</td>\n",
       "</tr>\n",
       "<tr>\n",
       "  <th>floor</th>          <td>   61.5389</td> <td>    5.322</td> <td>   11.564</td> <td> 0.000</td> <td>   51.107</td> <td>   71.971</td>\n",
       "</tr>\n",
       "</table>\n",
       "<table class=\"simpletable\">\n",
       "<tr>\n",
       "  <th>Omnibus:</th>       <td>2990.536</td> <th>  Durbin-Watson:     </th> <td>   1.994</td> \n",
       "</tr>\n",
       "<tr>\n",
       "  <th>Prob(Omnibus):</th>  <td> 0.000</td>  <th>  Jarque-Bera (JB):  </th> <td>26374.422</td>\n",
       "</tr>\n",
       "<tr>\n",
       "  <th>Skew:</th>           <td> 1.675</td>  <th>  Prob(JB):          </th> <td>    0.00</td> \n",
       "</tr>\n",
       "<tr>\n",
       "  <th>Kurtosis:</th>       <td>11.565</td>  <th>  Cond. No.          </th> <td>    22.1</td> \n",
       "</tr>\n",
       "</table><br/><br/>Notes:<br/>[1] Standard Errors assume that the covariance matrix of the errors is correctly specified."
      ],
      "text/plain": [
       "<class 'statsmodels.iolib.summary.Summary'>\n",
       "\"\"\"\n",
       "                            OLS Regression Results                            \n",
       "==============================================================================\n",
       "Dep. Variable:            rent_amount   R-squared:                       0.482\n",
       "Model:                            OLS   Adj. R-squared:                  0.481\n",
       "Method:                 Least Squares   F-statistic:                     1738.\n",
       "Date:                Thu, 01 Dec 2022   Prob (F-statistic):               0.00\n",
       "Time:                        20:39:17   Log-Likelihood:                -68983.\n",
       "No. Observations:                7484   AIC:                         1.380e+05\n",
       "Df Residuals:                    7479   BIC:                         1.380e+05\n",
       "Df Model:                           4                                         \n",
       "Covariance Type:            nonrobust                                         \n",
       "==================================================================================\n",
       "                     coef    std err          t      P>|t|      [0.025      0.975]\n",
       "----------------------------------------------------------------------------------\n",
       "const           -302.7787     75.050     -4.034      0.000    -449.899    -155.659\n",
       "rooms            282.7487     36.671      7.710      0.000     210.862     354.635\n",
       "bathroom        1119.2828     33.234     33.679      0.000    1054.136    1184.430\n",
       "parking_spaces   420.9105     25.561     16.467      0.000     370.804     471.017\n",
       "floor             61.5389      5.322     11.564      0.000      51.107      71.971\n",
       "==============================================================================\n",
       "Omnibus:                     2990.536   Durbin-Watson:                   1.994\n",
       "Prob(Omnibus):                  0.000   Jarque-Bera (JB):            26374.422\n",
       "Skew:                           1.675   Prob(JB):                         0.00\n",
       "Kurtosis:                      11.565   Cond. No.                         22.1\n",
       "==============================================================================\n",
       "\n",
       "Notes:\n",
       "[1] Standard Errors assume that the covariance matrix of the errors is correctly specified.\n",
       "\"\"\""
      ]
     },
     "execution_count": 726,
     "metadata": {},
     "output_type": "execute_result"
    }
   ],
   "source": [
    "# Utilizando o modelo de regressão linear multipla\n",
    "linear = linear_regress(y_train, X_train.drop(['area'], axis=1))\n",
    "y_pred = linear.predict(sm.add_constant(X_test.drop(['area'], axis=1)))\n",
    "linear.summary()"
   ]
  },
  {
   "cell_type": "code",
   "execution_count": 727,
   "metadata": {},
   "outputs": [],
   "source": [
    "# Armazenando os erros\n",
    "errors['linear_1'] = [mean_squared_error(y_test, y_pred, squared=False), mean_absolute_error(y_test, y_pred), r2_score(y_test, y_pred)]"
   ]
  },
  {
   "cell_type": "code",
   "execution_count": 728,
   "metadata": {},
   "outputs": [],
   "source": [
    "# Utilizando o modelo de regressão por árvore de decisão\n",
    "decision_tree = decision_tree_regress(X_train, y_train)\n",
    "y_pred = decision_tree.predict(X_test)\n",
    "\n",
    "# Armazenando os erros\n",
    "errors['decision_tree_1'] = [mean_squared_error(y_test, y_pred, squared=False), mean_absolute_error(y_test, y_pred), r2_score(y_test, y_pred)]"
   ]
  },
  {
   "cell_type": "code",
   "execution_count": 729,
   "metadata": {},
   "outputs": [],
   "source": [
    "# Utilizando o modelo de regressão por floresta aleatória\n",
    "random_forest = random_forest_regress(X_train, y_train)\n",
    "y_pred = random_forest.predict(X_test)\n",
    "\n",
    "# Armazenando os erros\n",
    "errors['random_forest_1'] = [mean_squared_error(y_test, y_pred, squared=False), mean_absolute_error(y_test, y_pred), r2_score(y_test, y_pred)]"
   ]
  },
  {
   "cell_type": "code",
   "execution_count": 730,
   "metadata": {},
   "outputs": [],
   "source": [
    "# Utilizando o modelo de regressão por k-vizinhos mais próximos\n",
    "K_neighbors = K_neighbors_regress(X_train, y_train, 6000)\n",
    "y_pred = K_neighbors.predict(X_test)\n",
    "\n",
    "# Armazenando os erros\n",
    "errors['K_neighbors_1'] = [mean_squared_error(y_test, y_pred, squared=False), mean_absolute_error(y_test, y_pred), r2_score(y_test, y_pred)]"
   ]
  },
  {
   "cell_type": "code",
   "execution_count": 731,
   "metadata": {},
   "outputs": [
    {
     "data": {
      "text/html": [
       "<div>\n",
       "<style scoped>\n",
       "    .dataframe tbody tr th:only-of-type {\n",
       "        vertical-align: middle;\n",
       "    }\n",
       "\n",
       "    .dataframe tbody tr th {\n",
       "        vertical-align: top;\n",
       "    }\n",
       "\n",
       "    .dataframe thead th {\n",
       "        text-align: right;\n",
       "    }\n",
       "</style>\n",
       "<table border=\"1\" class=\"dataframe\">\n",
       "  <thead>\n",
       "    <tr style=\"text-align: right;\">\n",
       "      <th></th>\n",
       "      <th>type</th>\n",
       "      <th>linear_1</th>\n",
       "      <th>decision_tree_1</th>\n",
       "      <th>random_forest_1</th>\n",
       "      <th>K_neighbors_1</th>\n",
       "    </tr>\n",
       "  </thead>\n",
       "  <tbody>\n",
       "    <tr>\n",
       "      <th>0</th>\n",
       "      <td>rmse</td>\n",
       "      <td>2490.693058</td>\n",
       "      <td>3242.008148</td>\n",
       "      <td>2419.746854</td>\n",
       "      <td>3486.738269</td>\n",
       "    </tr>\n",
       "    <tr>\n",
       "      <th>1</th>\n",
       "      <td>mae</td>\n",
       "      <td>1691.580461</td>\n",
       "      <td>2022.962636</td>\n",
       "      <td>1600.586314</td>\n",
       "      <td>2749.097235</td>\n",
       "    </tr>\n",
       "    <tr>\n",
       "      <th>2</th>\n",
       "      <td>r2</td>\n",
       "      <td>0.482148</td>\n",
       "      <td>0.122609</td>\n",
       "      <td>0.511230</td>\n",
       "      <td>-0.014854</td>\n",
       "    </tr>\n",
       "  </tbody>\n",
       "</table>\n",
       "</div>"
      ],
      "text/plain": [
       "   type     linear_1  decision_tree_1  random_forest_1  K_neighbors_1\n",
       "0  rmse  2490.693058      3242.008148      2419.746854    3486.738269\n",
       "1   mae  1691.580461      2022.962636      1600.586314    2749.097235\n",
       "2    r2     0.482148         0.122609         0.511230      -0.014854"
      ]
     },
     "execution_count": 731,
     "metadata": {},
     "output_type": "execute_result"
    }
   ],
   "source": [
    "errors"
   ]
  },
  {
   "cell_type": "markdown",
   "metadata": {},
   "source": [
    "## Segunda Iteração\n",
    "\n",
    "Remoção dos outliers (pesquise pq isso é bom)"
   ]
  },
  {
   "cell_type": "code",
   "execution_count": 732,
   "metadata": {},
   "outputs": [],
   "source": [
    "percent = 0.90\n",
    "quantitative_data_no_outliers = quantitative_data.loc[(data['area'] <= data['area'].quantile(percent)) & \n",
    "                                                      (data['rent_amount'] <= data['rent_amount'].quantile(percent)), :]\n"
   ]
  },
  {
   "cell_type": "code",
   "execution_count": 733,
   "metadata": {},
   "outputs": [
    {
     "data": {
      "text/html": [
       "<div>\n",
       "<style scoped>\n",
       "    .dataframe tbody tr th:only-of-type {\n",
       "        vertical-align: middle;\n",
       "    }\n",
       "\n",
       "    .dataframe tbody tr th {\n",
       "        vertical-align: top;\n",
       "    }\n",
       "\n",
       "    .dataframe thead th {\n",
       "        text-align: right;\n",
       "    }\n",
       "</style>\n",
       "<table border=\"1\" class=\"dataframe\">\n",
       "  <thead>\n",
       "    <tr style=\"text-align: right;\">\n",
       "      <th></th>\n",
       "      <th>area</th>\n",
       "      <th>rooms</th>\n",
       "      <th>bathroom</th>\n",
       "      <th>parking_spaces</th>\n",
       "      <th>floor</th>\n",
       "      <th>rent_amount</th>\n",
       "    </tr>\n",
       "  </thead>\n",
       "  <tbody>\n",
       "    <tr>\n",
       "      <th>count</th>\n",
       "      <td>9062.00</td>\n",
       "      <td>9062.00</td>\n",
       "      <td>9062.00</td>\n",
       "      <td>9062.00</td>\n",
       "      <td>9062.00</td>\n",
       "      <td>9062.00</td>\n",
       "    </tr>\n",
       "    <tr>\n",
       "      <th>mean</th>\n",
       "      <td>100.63</td>\n",
       "      <td>2.26</td>\n",
       "      <td>1.88</td>\n",
       "      <td>1.25</td>\n",
       "      <td>5.07</td>\n",
       "      <td>2806.17</td>\n",
       "    </tr>\n",
       "    <tr>\n",
       "      <th>std</th>\n",
       "      <td>66.77</td>\n",
       "      <td>1.01</td>\n",
       "      <td>1.07</td>\n",
       "      <td>1.21</td>\n",
       "      <td>5.11</td>\n",
       "      <td>1836.20</td>\n",
       "    </tr>\n",
       "    <tr>\n",
       "      <th>min</th>\n",
       "      <td>11.00</td>\n",
       "      <td>1.00</td>\n",
       "      <td>1.00</td>\n",
       "      <td>0.00</td>\n",
       "      <td>0.00</td>\n",
       "      <td>450.00</td>\n",
       "    </tr>\n",
       "    <tr>\n",
       "      <th>25%</th>\n",
       "      <td>51.00</td>\n",
       "      <td>1.00</td>\n",
       "      <td>1.00</td>\n",
       "      <td>0.00</td>\n",
       "      <td>1.00</td>\n",
       "      <td>1400.00</td>\n",
       "    </tr>\n",
       "    <tr>\n",
       "      <th>50%</th>\n",
       "      <td>78.00</td>\n",
       "      <td>2.00</td>\n",
       "      <td>2.00</td>\n",
       "      <td>1.00</td>\n",
       "      <td>4.00</td>\n",
       "      <td>2250.00</td>\n",
       "    </tr>\n",
       "    <tr>\n",
       "      <th>75%</th>\n",
       "      <td>130.00</td>\n",
       "      <td>3.00</td>\n",
       "      <td>2.00</td>\n",
       "      <td>2.00</td>\n",
       "      <td>8.00</td>\n",
       "      <td>3677.50</td>\n",
       "    </tr>\n",
       "    <tr>\n",
       "      <th>max</th>\n",
       "      <td>300.00</td>\n",
       "      <td>8.00</td>\n",
       "      <td>7.00</td>\n",
       "      <td>10.00</td>\n",
       "      <td>51.00</td>\n",
       "      <td>8950.00</td>\n",
       "    </tr>\n",
       "  </tbody>\n",
       "</table>\n",
       "</div>"
      ],
      "text/plain": [
       "          area    rooms  bathroom  parking_spaces    floor  rent_amount\n",
       "count  9062.00  9062.00   9062.00         9062.00  9062.00      9062.00\n",
       "mean    100.63     2.26      1.88            1.25     5.07      2806.17\n",
       "std      66.77     1.01      1.07            1.21     5.11      1836.20\n",
       "min      11.00     1.00      1.00            0.00     0.00       450.00\n",
       "25%      51.00     1.00      1.00            0.00     1.00      1400.00\n",
       "50%      78.00     2.00      2.00            1.00     4.00      2250.00\n",
       "75%     130.00     3.00      2.00            2.00     8.00      3677.50\n",
       "max     300.00     8.00      7.00           10.00    51.00      8950.00"
      ]
     },
     "execution_count": 733,
     "metadata": {},
     "output_type": "execute_result"
    }
   ],
   "source": [
    "quantitative_data_no_outliers.describe().round(2)"
   ]
  },
  {
   "cell_type": "code",
   "execution_count": 734,
   "metadata": {},
   "outputs": [
    {
     "data": {
      "text/plain": [
       "<seaborn.axisgrid.PairGrid at 0x2070fc71ca0>"
      ]
     },
     "metadata": {},
     "output_type": "display_data"
    },
    {
     "data": {
      "image/png": "[encoded data removed]",
      "text/plain": [
       "<Figure size 648x648 with 42 Axes>"
      ]
     },
     "metadata": {
      "needs_background": "light"
     },
     "output_type": "display_data"
    }
   ],
   "source": [
    "display(sn.pairplot(quantitative_data_no_outliers, height=1.5))"
   ]
  },
  {
   "cell_type": "code",
   "execution_count": 735,
   "metadata": {},
   "outputs": [
    {
     "name": "stdout",
     "output_type": "stream",
     "text": [
      "Bases de Treino e Teste geradas com sucesso!\n",
      "A base de Treino possui 6343 conjuntos de dados\n",
      "A base de Teste possui 2719 conjuntos de dados\n"
     ]
    }
   ],
   "source": [
    "train, test = generate_random_train_test(quantitative_data_no_outliers, percent_train=0.7)\n",
    "\n",
    "X_train = train[['area', 'rooms', 'bathroom', 'parking_spaces', 'floor']]\n",
    "y_train = train['rent_amount']\n",
    "\n",
    "X_test = test[['area', 'rooms', 'bathroom', 'parking_spaces', 'floor']]\n",
    "y_test = test['rent_amount']\n"
   ]
  },
  {
   "cell_type": "code",
   "execution_count": 736,
   "metadata": {},
   "outputs": [
    {
     "data": {
      "text/html": [
       "<table class=\"simpletable\">\n",
       "<caption>OLS Regression Results</caption>\n",
       "<tr>\n",
       "  <th>Dep. Variable:</th>       <td>rent_amount</td>   <th>  R-squared:         </th> <td>   0.389</td> \n",
       "</tr>\n",
       "<tr>\n",
       "  <th>Model:</th>                   <td>OLS</td>       <th>  Adj. R-squared:    </th> <td>   0.389</td> \n",
       "</tr>\n",
       "<tr>\n",
       "  <th>Method:</th>             <td>Least Squares</td>  <th>  F-statistic:       </th> <td>   1008.</td> \n",
       "</tr>\n",
       "<tr>\n",
       "  <th>Date:</th>             <td>Thu, 01 Dec 2022</td> <th>  Prob (F-statistic):</th>  <td>  0.00</td>  \n",
       "</tr>\n",
       "<tr>\n",
       "  <th>Time:</th>                 <td>20:39:37</td>     <th>  Log-Likelihood:    </th> <td> -55170.</td> \n",
       "</tr>\n",
       "<tr>\n",
       "  <th>No. Observations:</th>      <td>  6343</td>      <th>  AIC:               </th> <td>1.103e+05</td>\n",
       "</tr>\n",
       "<tr>\n",
       "  <th>Df Residuals:</th>          <td>  6338</td>      <th>  BIC:               </th> <td>1.104e+05</td>\n",
       "</tr>\n",
       "<tr>\n",
       "  <th>Df Model:</th>              <td>     4</td>      <th>                     </th>     <td> </td>    \n",
       "</tr>\n",
       "<tr>\n",
       "  <th>Covariance Type:</th>      <td>nonrobust</td>    <th>                     </th>     <td> </td>    \n",
       "</tr>\n",
       "</table>\n",
       "<table class=\"simpletable\">\n",
       "<tr>\n",
       "         <td></td>           <th>coef</th>     <th>std err</th>      <th>t</th>      <th>P>|t|</th>  <th>[0.025</th>    <th>0.975]</th>  \n",
       "</tr>\n",
       "<tr>\n",
       "  <th>const</th>          <td>  530.6447</td> <td>   50.466</td> <td>   10.515</td> <td> 0.000</td> <td>  431.715</td> <td>  629.575</td>\n",
       "</tr>\n",
       "<tr>\n",
       "  <th>rooms</th>          <td>  155.6539</td> <td>   25.470</td> <td>    6.111</td> <td> 0.000</td> <td>  105.724</td> <td>  205.584</td>\n",
       "</tr>\n",
       "<tr>\n",
       "  <th>bathroom</th>       <td>  721.6105</td> <td>   25.762</td> <td>   28.010</td> <td> 0.000</td> <td>  671.108</td> <td>  772.113</td>\n",
       "</tr>\n",
       "<tr>\n",
       "  <th>parking_spaces</th> <td>  267.1803</td> <td>   19.952</td> <td>   13.391</td> <td> 0.000</td> <td>  228.067</td> <td>  306.294</td>\n",
       "</tr>\n",
       "<tr>\n",
       "  <th>floor</th>          <td>   48.4122</td> <td>    3.591</td> <td>   13.482</td> <td> 0.000</td> <td>   41.373</td> <td>   55.452</td>\n",
       "</tr>\n",
       "</table>\n",
       "<table class=\"simpletable\">\n",
       "<tr>\n",
       "  <th>Omnibus:</th>       <td>1208.310</td> <th>  Durbin-Watson:     </th> <td>   1.996</td>\n",
       "</tr>\n",
       "<tr>\n",
       "  <th>Prob(Omnibus):</th>  <td> 0.000</td>  <th>  Jarque-Bera (JB):  </th> <td>2331.194</td>\n",
       "</tr>\n",
       "<tr>\n",
       "  <th>Skew:</th>           <td> 1.161</td>  <th>  Prob(JB):          </th> <td>    0.00</td>\n",
       "</tr>\n",
       "<tr>\n",
       "  <th>Kurtosis:</th>       <td> 4.851</td>  <th>  Cond. No.          </th> <td>    22.3</td>\n",
       "</tr>\n",
       "</table><br/><br/>Notes:<br/>[1] Standard Errors assume that the covariance matrix of the errors is correctly specified."
      ],
      "text/plain": [
       "<class 'statsmodels.iolib.summary.Summary'>\n",
       "\"\"\"\n",
       "                            OLS Regression Results                            \n",
       "==============================================================================\n",
       "Dep. Variable:            rent_amount   R-squared:                       0.389\n",
       "Model:                            OLS   Adj. R-squared:                  0.389\n",
       "Method:                 Least Squares   F-statistic:                     1008.\n",
       "Date:                Thu, 01 Dec 2022   Prob (F-statistic):               0.00\n",
       "Time:                        20:39:37   Log-Likelihood:                -55170.\n",
       "No. Observations:                6343   AIC:                         1.103e+05\n",
       "Df Residuals:                    6338   BIC:                         1.104e+05\n",
       "Df Model:                           4                                         \n",
       "Covariance Type:            nonrobust                                         \n",
       "==================================================================================\n",
       "                     coef    std err          t      P>|t|      [0.025      0.975]\n",
       "----------------------------------------------------------------------------------\n",
       "const            530.6447     50.466     10.515      0.000     431.715     629.575\n",
       "rooms            155.6539     25.470      6.111      0.000     105.724     205.584\n",
       "bathroom         721.6105     25.762     28.010      0.000     671.108     772.113\n",
       "parking_spaces   267.1803     19.952     13.391      0.000     228.067     306.294\n",
       "floor             48.4122      3.591     13.482      0.000      41.373      55.452\n",
       "==============================================================================\n",
       "Omnibus:                     1208.310   Durbin-Watson:                   1.996\n",
       "Prob(Omnibus):                  0.000   Jarque-Bera (JB):             2331.194\n",
       "Skew:                           1.161   Prob(JB):                         0.00\n",
       "Kurtosis:                       4.851   Cond. No.                         22.3\n",
       "==============================================================================\n",
       "\n",
       "Notes:\n",
       "[1] Standard Errors assume that the covariance matrix of the errors is correctly specified.\n",
       "\"\"\""
      ]
     },
     "execution_count": 736,
     "metadata": {},
     "output_type": "execute_result"
    }
   ],
   "source": [
    "# Utilizando o modelo de regressão linear multipla\n",
    "linear = linear_regress(y_train, X_train.drop(['area'], axis=1))\n",
    "y_pred = linear.predict(sm.add_constant(X_test.drop(['area'], axis=1)))\n",
    "linear.summary()"
   ]
  },
  {
   "cell_type": "code",
   "execution_count": 737,
   "metadata": {},
   "outputs": [],
   "source": [
    "# Armazenando os erros\n",
    "errors['linear_2'] = [mean_squared_error(y_test, y_pred, squared=False), mean_absolute_error(y_test, y_pred), r2_score(y_test, y_pred)]"
   ]
  },
  {
   "cell_type": "code",
   "execution_count": 738,
   "metadata": {},
   "outputs": [],
   "source": [
    "# Utilizando o modelo de regressão por árvore de decisão\n",
    "decision_tree = decision_tree_regress(X_train, y_train)\n",
    "y_pred = decision_tree.predict(X_test)\n",
    "\n",
    "# Armazenando os erros\n",
    "errors['decision_tree_2'] = [mean_squared_error(y_test, y_pred, squared=False), mean_absolute_error(y_test, y_pred), r2_score(y_test, y_pred)]"
   ]
  },
  {
   "cell_type": "code",
   "execution_count": 739,
   "metadata": {},
   "outputs": [],
   "source": [
    "# Utilizando o modelo de regressão por floresta aleatória\n",
    "random_forest = random_forest_regress(X_train, y_train)\n",
    "y_pred = random_forest.predict(X_test)\n",
    "\n",
    "# Armazenando os erros\n",
    "errors['random_forest_2'] = [mean_squared_error(y_test, y_pred, squared=False), mean_absolute_error(y_test, y_pred), r2_score(y_test, y_pred)]"
   ]
  },
  {
   "cell_type": "code",
   "execution_count": 740,
   "metadata": {},
   "outputs": [],
   "source": [
    "# Utilizando o modelo de regressão por k-vizinhos mais próximos\n",
    "K_neighbors = K_neighbors_regress(X_train, y_train, 6000)\n",
    "y_pred = K_neighbors.predict(X_test)\n",
    "\n",
    "# Armazenando os erros\n",
    "errors['K_neighbors_2'] = [mean_squared_error(y_test, y_pred, squared=False), mean_absolute_error(y_test, y_pred), r2_score(y_test, y_pred)]"
   ]
  },
  {
   "cell_type": "code",
   "execution_count": 741,
   "metadata": {},
   "outputs": [
    {
     "data": {
      "text/html": [
       "<div>\n",
       "<style scoped>\n",
       "    .dataframe tbody tr th:only-of-type {\n",
       "        vertical-align: middle;\n",
       "    }\n",
       "\n",
       "    .dataframe tbody tr th {\n",
       "        vertical-align: top;\n",
       "    }\n",
       "\n",
       "    .dataframe thead th {\n",
       "        text-align: right;\n",
       "    }\n",
       "</style>\n",
       "<table border=\"1\" class=\"dataframe\">\n",
       "  <thead>\n",
       "    <tr style=\"text-align: right;\">\n",
       "      <th></th>\n",
       "      <th>type</th>\n",
       "      <th>linear_1</th>\n",
       "      <th>decision_tree_1</th>\n",
       "      <th>random_forest_1</th>\n",
       "      <th>K_neighbors_1</th>\n",
       "      <th>linear_2</th>\n",
       "      <th>decision_tree_2</th>\n",
       "      <th>random_forest_2</th>\n",
       "      <th>K_neighbors_2</th>\n",
       "    </tr>\n",
       "  </thead>\n",
       "  <tbody>\n",
       "    <tr>\n",
       "      <th>0</th>\n",
       "      <td>rmse</td>\n",
       "      <td>2490.693058</td>\n",
       "      <td>3242.008148</td>\n",
       "      <td>2419.746854</td>\n",
       "      <td>3486.738269</td>\n",
       "      <td>1383.132019</td>\n",
       "      <td>1776.473741</td>\n",
       "      <td>1408.998437</td>\n",
       "      <td>1799.223352</td>\n",
       "    </tr>\n",
       "    <tr>\n",
       "      <th>1</th>\n",
       "      <td>mae</td>\n",
       "      <td>1691.580461</td>\n",
       "      <td>2022.962636</td>\n",
       "      <td>1600.586314</td>\n",
       "      <td>2749.097235</td>\n",
       "      <td>1039.649059</td>\n",
       "      <td>1230.751692</td>\n",
       "      <td>1009.506895</td>\n",
       "      <td>1444.714817</td>\n",
       "    </tr>\n",
       "    <tr>\n",
       "      <th>2</th>\n",
       "      <td>r2</td>\n",
       "      <td>0.482148</td>\n",
       "      <td>0.122609</td>\n",
       "      <td>0.511230</td>\n",
       "      <td>-0.014854</td>\n",
       "      <td>0.404716</td>\n",
       "      <td>0.017993</td>\n",
       "      <td>0.382242</td>\n",
       "      <td>-0.007319</td>\n",
       "    </tr>\n",
       "  </tbody>\n",
       "</table>\n",
       "</div>"
      ],
      "text/plain": [
       "   type     linear_1  decision_tree_1  random_forest_1  K_neighbors_1  \\\n",
       "0  rmse  2490.693058      3242.008148      2419.746854    3486.738269   \n",
       "1   mae  1691.580461      2022.962636      1600.586314    2749.097235   \n",
       "2    r2     0.482148         0.122609         0.511230      -0.014854   \n",
       "\n",
       "      linear_2  decision_tree_2  random_forest_2  K_neighbors_2  \n",
       "0  1383.132019      1776.473741      1408.998437    1799.223352  \n",
       "1  1039.649059      1230.751692      1009.506895    1444.714817  \n",
       "2     0.404716         0.017993         0.382242      -0.007319  "
      ]
     },
     "execution_count": 741,
     "metadata": {},
     "output_type": "execute_result"
    }
   ],
   "source": [
    "errors"
   ]
  },
  {
   "cell_type": "markdown",
   "metadata": {},
   "source": [
    "_____\n",
    "## Conclusões\n",
    "\n"
   ]
  },
  {
   "cell_type": "code",
   "execution_count": 742,
   "metadata": {},
   "outputs": [
    {
     "data": {
      "text/html": [
       "<div>\n",
       "<style scoped>\n",
       "    .dataframe tbody tr th:only-of-type {\n",
       "        vertical-align: middle;\n",
       "    }\n",
       "\n",
       "    .dataframe tbody tr th {\n",
       "        vertical-align: top;\n",
       "    }\n",
       "\n",
       "    .dataframe thead th {\n",
       "        text-align: right;\n",
       "    }\n",
       "</style>\n",
       "<table border=\"1\" class=\"dataframe\">\n",
       "  <thead>\n",
       "    <tr style=\"text-align: right;\">\n",
       "      <th></th>\n",
       "      <th>type</th>\n",
       "      <th>linear_1</th>\n",
       "      <th>decision_tree_1</th>\n",
       "      <th>random_forest_1</th>\n",
       "      <th>K_neighbors_1</th>\n",
       "      <th>linear_2</th>\n",
       "      <th>decision_tree_2</th>\n",
       "      <th>random_forest_2</th>\n",
       "      <th>K_neighbors_2</th>\n",
       "    </tr>\n",
       "  </thead>\n",
       "  <tbody>\n",
       "    <tr>\n",
       "      <th>0</th>\n",
       "      <td>rmse</td>\n",
       "      <td>2490.693058</td>\n",
       "      <td>3242.008148</td>\n",
       "      <td>2419.746854</td>\n",
       "      <td>3486.738269</td>\n",
       "      <td>1383.132019</td>\n",
       "      <td>1776.473741</td>\n",
       "      <td>1408.998437</td>\n",
       "      <td>1799.223352</td>\n",
       "    </tr>\n",
       "    <tr>\n",
       "      <th>1</th>\n",
       "      <td>mae</td>\n",
       "      <td>1691.580461</td>\n",
       "      <td>2022.962636</td>\n",
       "      <td>1600.586314</td>\n",
       "      <td>2749.097235</td>\n",
       "      <td>1039.649059</td>\n",
       "      <td>1230.751692</td>\n",
       "      <td>1009.506895</td>\n",
       "      <td>1444.714817</td>\n",
       "    </tr>\n",
       "    <tr>\n",
       "      <th>2</th>\n",
       "      <td>r2</td>\n",
       "      <td>0.482148</td>\n",
       "      <td>0.122609</td>\n",
       "      <td>0.511230</td>\n",
       "      <td>-0.014854</td>\n",
       "      <td>0.404716</td>\n",
       "      <td>0.017993</td>\n",
       "      <td>0.382242</td>\n",
       "      <td>-0.007319</td>\n",
       "    </tr>\n",
       "  </tbody>\n",
       "</table>\n",
       "</div>"
      ],
      "text/plain": [
       "   type     linear_1  decision_tree_1  random_forest_1  K_neighbors_1  \\\n",
       "0  rmse  2490.693058      3242.008148      2419.746854    3486.738269   \n",
       "1   mae  1691.580461      2022.962636      1600.586314    2749.097235   \n",
       "2    r2     0.482148         0.122609         0.511230      -0.014854   \n",
       "\n",
       "      linear_2  decision_tree_2  random_forest_2  K_neighbors_2  \n",
       "0  1383.132019      1776.473741      1408.998437    1799.223352  \n",
       "1  1039.649059      1230.751692      1009.506895    1444.714817  \n",
       "2     0.404716         0.017993         0.382242      -0.007319  "
      ]
     },
     "execution_count": 742,
     "metadata": {},
     "output_type": "execute_result"
    }
   ],
   "source": [
    "errors"
   ]
  },
  {
   "cell_type": "markdown",
   "metadata": {},
   "source": [
    "   A respeito dos dados trabalhados chegou-se à conclusão de que não é possível prever com uma precisão adequada o valor de um imóvel com base nas variáveis escolhidas e no modelo de previsão atual.\n",
    "   \n",
    "   Foram utilizados os métodos de predição: Regressão Linear Múltipla, Árvore de Decisão, Floresta Aleatória e K-Vizinhos Mais Próximos, além de  métricas de avaliação de séries temporais como MSE (Erro Quadrático Médio) e MAE (Erro Médio Absoluto), sendo o modelo de Regressão Linear o que melhor obteve êxito no cálculo dos erros, tanto na primeira quanto na segunda iteração. Sendo o valor do erro MSE da primeira iteração da Regressão Linear de aproximadamente 2488,85 reais, e o da segunda, 1316,70 reais. Já os valores da Regressão Linear no tipo de erro MAE foram para a primeira e a segunda iteração, respectivamente: \n",
    "\t\n",
    "   Entretanto, mesmo sendo o método com melhores resultados, seu uso seria inadequado, visto que o Prob(Omnibus) e o Prob(JB) resultaram em zero, o que indica que os resíduos não seguem distribuição normal, o que violaria a suposição de modelo de regressão. \n",
    "    \n",
    "   Para uma melhor previsão e uma melhor adequação do modelo de regressão, poderiam ser feitos ajustes nas variáveis explicativas, já que inicialmente foram descartadas as variáveis qualitativas (‘animal’ e 'furniture'). Caso fossem transformadas em quantitativas, testes poderiam ser feitos para garantir uma melhor predição dos valores dos imóveis. \n"
   ]
  },
  {
   "cell_type": "code",
   "execution_count": 743,
   "metadata": {},
   "outputs": [],
   "source": [
    "# Possível 3 iteração\n",
    "\n",
    "#  As variaveis `animal` e `furniture` são variaveis qualitativas que possuem apenas dois valores: \n",
    "#  `possui/aceita` e não `possui/não aceita`. Logo, para padronizar essas variaveis, substituiremos \n",
    "#  esses valores por `True` e `False`, respectivamente.\n",
    "\n",
    "#  data.loc[(data['animal'] == 'acept'), 'animal'] = True\n",
    "#  data.loc[(data['animal'] == 'not acept'), 'animal'] = False\n",
    "#  data['animal'] = data['animal'].astype('boolean')\n",
    "\n",
    "#  data.loc[(data['furniture'] == 'furnished'), 'furniture'] = True\n",
    "#  data.loc[(data['furniture'] == 'not furnished'), 'furniture'] = False\n",
    "#  data['furniture'] = data['furniture'].astype('boolean') "
   ]
  },
  {
   "cell_type": "markdown",
   "metadata": {},
   "source": [
    "___\n",
    "## Referências"
   ]
  },
  {
   "cell_type": "markdown",
   "metadata": {},
   "source": [
    "- https://www.geeksforgeeks.org/python-decision-tree-regression-using-sklearn/\n",
    "- https://towardsdatascience.com/what-are-the-best-metrics-to-evaluate-your-regression-model-418ca481755b\n",
    "- https://stackoverflow.com/questions/17197492/is-there-a-library-function-for-root-mean-square-error-rmse-in-python\n",
    "- https://medium.com/pursuitnotes/decision-tree-regression-in-6-steps-with-python-1a1c5aa2ee16\n",
    "- https://stackabuse.com/decision-trees-in-python-with-scikit-learn/"
   ]
  }
 ],
 "metadata": {
  "kernelspec": {
   "display_name": "Python 3 (ipykernel)",
   "language": "python",
   "name": "python3"
  },
  "language_info": {
   "codemirror_mode": {
    "name": "ipython",
    "version": 3
   },
   "file_extension": ".py",
   "mimetype": "text/x-python",
   "name": "python",
   "nbconvert_exporter": "python",
   "pygments_lexer": "ipython3",
   "version": "3.9.7"
  },
  "vscode": {
   "interpreter": {
    "hash": "fcade83cbec70c4570249288f8f1595edd0333f0171fd8564bcd72f7e259e8a3"
   }
  }
 },
 "nbformat": 4,
 "nbformat_minor": 4
}
